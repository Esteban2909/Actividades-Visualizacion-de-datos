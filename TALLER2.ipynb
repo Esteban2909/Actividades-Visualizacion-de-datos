{
 "cells": [
  {
   "cell_type": "markdown",
   "metadata": {},
   "source": [
    "# Taller - 2 : Arboles y redes\n",
    "\n",
    "### Nombre: Daniel Esteban Gómez Rodríguez"
   ]
  },
  {
   "cell_type": "markdown",
   "metadata": {},
   "source": [
    "### Desarrollo"
   ]
  },
  {
   "cell_type": "markdown",
   "metadata": {},
   "source": [
    "#### Carga de datos"
   ]
  },
  {
   "cell_type": "code",
   "execution_count": 1,
   "metadata": {},
   "outputs": [],
   "source": [
    "import pandas as pd\n",
    "import numpy as np\n",
    "import seaborn as sns\n",
    "import networkx as nx\n",
    "from pyvis.network import Network\n",
    "import matplotlib.pyplot as plt"
   ]
  },
  {
   "cell_type": "code",
   "execution_count": 2,
   "metadata": {},
   "outputs": [],
   "source": [
    "df = pd.read_csv('flujo_comercial1980_1.csv',\n",
    "                         encoding='latin-1',\n",
    "                         sep = ';', decimal='.'\n",
    "                 \n",
    "                        )"
   ]
  },
  {
   "cell_type": "code",
   "execution_count": 3,
   "metadata": {},
   "outputs": [
    {
     "data": {
      "text/html": [
       "<div>\n",
       "<style scoped>\n",
       "    .dataframe tbody tr th:only-of-type {\n",
       "        vertical-align: middle;\n",
       "    }\n",
       "\n",
       "    .dataframe tbody tr th {\n",
       "        vertical-align: top;\n",
       "    }\n",
       "\n",
       "    .dataframe thead th {\n",
       "        text-align: right;\n",
       "    }\n",
       "</style>\n",
       "<table border=\"1\" class=\"dataframe\">\n",
       "  <thead>\n",
       "    <tr style=\"text-align: right;\">\n",
       "      <th></th>\n",
       "      <th>flow</th>\n",
       "      <th>continent1</th>\n",
       "      <th>country1</th>\n",
       "      <th>country2</th>\n",
       "      <th>currency</th>\n",
       "      <th>amount</th>\n",
       "      <th>continent</th>\n",
       "    </tr>\n",
       "  </thead>\n",
       "  <tbody>\n",
       "    <tr>\n",
       "      <th>0</th>\n",
       "      <td>Import</td>\n",
       "      <td>OC</td>\n",
       "      <td>AUS</td>\n",
       "      <td>AUS</td>\n",
       "      <td>USD</td>\n",
       "      <td>0.0</td>\n",
       "      <td>continent</td>\n",
       "    </tr>\n",
       "    <tr>\n",
       "      <th>1</th>\n",
       "      <td>Import</td>\n",
       "      <td>EU</td>\n",
       "      <td>AUT</td>\n",
       "      <td>AUS</td>\n",
       "      <td>USD</td>\n",
       "      <td>3271083.0</td>\n",
       "      <td>continent</td>\n",
       "    </tr>\n",
       "    <tr>\n",
       "      <th>2</th>\n",
       "      <td>Import</td>\n",
       "      <td>N.A</td>\n",
       "      <td>CAN</td>\n",
       "      <td>AUS</td>\n",
       "      <td>USD</td>\n",
       "      <td>36109333.0</td>\n",
       "      <td>continent</td>\n",
       "    </tr>\n",
       "    <tr>\n",
       "      <th>3</th>\n",
       "      <td>Import</td>\n",
       "      <td>EU</td>\n",
       "      <td>DNK</td>\n",
       "      <td>AUS</td>\n",
       "      <td>USD</td>\n",
       "      <td>2454000.0</td>\n",
       "      <td>continent</td>\n",
       "    </tr>\n",
       "    <tr>\n",
       "      <th>4</th>\n",
       "      <td>Import</td>\n",
       "      <td>EU</td>\n",
       "      <td>FIN</td>\n",
       "      <td>AUS</td>\n",
       "      <td>USD</td>\n",
       "      <td>1385000.0</td>\n",
       "      <td>continent</td>\n",
       "    </tr>\n",
       "    <tr>\n",
       "      <th>5</th>\n",
       "      <td>Import</td>\n",
       "      <td>EU</td>\n",
       "      <td>FRA</td>\n",
       "      <td>AUS</td>\n",
       "      <td>USD</td>\n",
       "      <td>48671750.0</td>\n",
       "      <td>continent</td>\n",
       "    </tr>\n",
       "    <tr>\n",
       "      <th>6</th>\n",
       "      <td>Import</td>\n",
       "      <td>EU</td>\n",
       "      <td>DEU</td>\n",
       "      <td>AUS</td>\n",
       "      <td>USD</td>\n",
       "      <td>58546833.0</td>\n",
       "      <td>continent</td>\n",
       "    </tr>\n",
       "    <tr>\n",
       "      <th>7</th>\n",
       "      <td>Import</td>\n",
       "      <td>EU</td>\n",
       "      <td>GRC</td>\n",
       "      <td>AUS</td>\n",
       "      <td>USD</td>\n",
       "      <td>1518000.0</td>\n",
       "      <td>continent</td>\n",
       "    </tr>\n",
       "    <tr>\n",
       "      <th>8</th>\n",
       "      <td>Import</td>\n",
       "      <td>EU</td>\n",
       "      <td>ISL</td>\n",
       "      <td>AUS</td>\n",
       "      <td>USD</td>\n",
       "      <td>2748667.0</td>\n",
       "      <td>continent</td>\n",
       "    </tr>\n",
       "    <tr>\n",
       "      <th>9</th>\n",
       "      <td>Import</td>\n",
       "      <td>EU</td>\n",
       "      <td>IRL</td>\n",
       "      <td>AUS</td>\n",
       "      <td>USD</td>\n",
       "      <td>830750.0</td>\n",
       "      <td>continent</td>\n",
       "    </tr>\n",
       "    <tr>\n",
       "      <th>10</th>\n",
       "      <td>Import</td>\n",
       "      <td>EU</td>\n",
       "      <td>ITA</td>\n",
       "      <td>AUS</td>\n",
       "      <td>USD</td>\n",
       "      <td>47909500.0</td>\n",
       "      <td>continent</td>\n",
       "    </tr>\n",
       "    <tr>\n",
       "      <th>11</th>\n",
       "      <td>Import</td>\n",
       "      <td>AS</td>\n",
       "      <td>JPN</td>\n",
       "      <td>AUS</td>\n",
       "      <td>USD</td>\n",
       "      <td>582190000.0</td>\n",
       "      <td>continent</td>\n",
       "    </tr>\n",
       "    <tr>\n",
       "      <th>12</th>\n",
       "      <td>Import</td>\n",
       "      <td>EU</td>\n",
       "      <td>NLD</td>\n",
       "      <td>AUS</td>\n",
       "      <td>USD</td>\n",
       "      <td>15420250.0</td>\n",
       "      <td>continent</td>\n",
       "    </tr>\n",
       "    <tr>\n",
       "      <th>13</th>\n",
       "      <td>Import</td>\n",
       "      <td>EU</td>\n",
       "      <td>NOR</td>\n",
       "      <td>AUS</td>\n",
       "      <td>USD</td>\n",
       "      <td>9896000.0</td>\n",
       "      <td>continent</td>\n",
       "    </tr>\n",
       "    <tr>\n",
       "      <th>14</th>\n",
       "      <td>Import</td>\n",
       "      <td>EU</td>\n",
       "      <td>PRT</td>\n",
       "      <td>AUS</td>\n",
       "      <td>USD</td>\n",
       "      <td>1687000.0</td>\n",
       "      <td>continent</td>\n",
       "    </tr>\n",
       "  </tbody>\n",
       "</table>\n",
       "</div>"
      ],
      "text/plain": [
       "      flow continent1 country1 country2 currency       amount  continent\n",
       "0   Import         OC      AUS      AUS      USD          0.0  continent\n",
       "1   Import         EU      AUT      AUS      USD    3271083.0  continent\n",
       "2   Import        N.A      CAN      AUS      USD   36109333.0  continent\n",
       "3   Import         EU      DNK      AUS      USD    2454000.0  continent\n",
       "4   Import         EU      FIN      AUS      USD    1385000.0  continent\n",
       "5   Import         EU      FRA      AUS      USD   48671750.0  continent\n",
       "6   Import         EU      DEU      AUS      USD   58546833.0  continent\n",
       "7   Import         EU      GRC      AUS      USD    1518000.0  continent\n",
       "8   Import         EU      ISL      AUS      USD    2748667.0  continent\n",
       "9   Import         EU      IRL      AUS      USD     830750.0  continent\n",
       "10  Import         EU      ITA      AUS      USD   47909500.0  continent\n",
       "11  Import         AS      JPN      AUS      USD  582190000.0  continent\n",
       "12  Import         EU      NLD      AUS      USD   15420250.0  continent\n",
       "13  Import         EU      NOR      AUS      USD    9896000.0  continent\n",
       "14  Import         EU      PRT      AUS      USD    1687000.0  continent"
      ]
     },
     "execution_count": 3,
     "metadata": {},
     "output_type": "execute_result"
    }
   ],
   "source": [
    "df.head(15)"
   ]
  },
  {
   "cell_type": "markdown",
   "metadata": {},
   "source": [
    "### Coptextualización de la base de datos:\n",
    "\n",
    "La base de datos hace referencia a los flujos comerciales  referente a las exportaciones e importaciones por pais en el año de 1980. "
   ]
  },
  {
   "cell_type": "markdown",
   "metadata": {},
   "source": [
    "### Desarrollo del modismo"
   ]
  },
  {
   "cell_type": "code",
   "execution_count": 13,
   "metadata": {},
   "outputs": [],
   "source": [
    "import plotly.express as px"
   ]
  },
  {
   "cell_type": "code",
   "execution_count": 12,
   "metadata": {},
   "outputs": [
    {
     "data": {
      "application/vnd.plotly.v1+json": {
       "config": {
        "plotlyServerURL": "https://plot.ly"
       },
       "data": [
        {
         "branchvalues": "total",
         "customdata": [
          [
           "EU"
          ],
          [
           "EU"
          ],
          [
           "EU"
          ],
          [
           "(?)"
          ],
          [
           "AS"
          ],
          [
           "AS"
          ],
          [
           "AS"
          ],
          [
           "EU"
          ],
          [
           "EU"
          ],
          [
           "N.A"
          ],
          [
           "EU"
          ],
          [
           "EU"
          ],
          [
           "OC"
          ],
          [
           "OC"
          ],
          [
           "EU"
          ],
          [
           "EU"
          ],
          [
           "AS"
          ],
          [
           "EU"
          ],
          [
           "EU"
          ],
          [
           "EU"
          ],
          [
           "EU"
          ],
          [
           "EU"
          ],
          [
           "EU"
          ],
          [
           "N.A"
          ],
          [
           "N.A"
          ],
          [
           "AS"
          ],
          [
           "AS"
          ],
          [
           "N.A"
          ],
          [
           "OC"
          ],
          [
           "OC"
          ],
          [
           "EU"
          ],
          [
           "EU"
          ],
          [
           "(?)"
          ],
          [
           "EU"
          ],
          [
           "OC"
          ],
          [
           "EU"
          ],
          [
           "EU"
          ],
          [
           "EU"
          ],
          [
           "N.A"
          ],
          [
           "N.A"
          ],
          [
           "EU"
          ],
          [
           "EU"
          ],
          [
           "EU"
          ],
          [
           "EU"
          ],
          [
           "EU"
          ],
          [
           "EU"
          ],
          [
           "EU"
          ],
          [
           "EU"
          ],
          [
           "EU"
          ],
          [
           "EU"
          ],
          [
           "EU"
          ],
          [
           "EU"
          ],
          [
           "EU"
          ],
          [
           "EU"
          ],
          [
           "EU"
          ],
          [
           "EU"
          ],
          [
           "EU"
          ],
          [
           "EU"
          ],
          [
           "EU"
          ],
          [
           "N.A"
          ],
          [
           "EU"
          ],
          [
           "EU"
          ],
          [
           "N.A"
          ],
          [
           "EU"
          ],
          [
           "EU"
          ],
          [
           "EU"
          ],
          [
           "EU"
          ],
          [
           "EU"
          ],
          [
           "EU"
          ],
          [
           "OC"
          ]
         ],
         "domain": {
          "x": [
           0,
           1
          ],
          "y": [
           0,
           1
          ]
         },
         "hovertemplate": "labels=%{label}<br>amount=%{value}<br>parent=%{parent}<br>id=%{id}<br>continent1=%{customdata[0]}<extra></extra>",
         "ids": [
          "Export/EU/ITA",
          "Import/EU/CZE",
          "Import/EU/SVK",
          "Export",
          "Import/AS/JPN",
          "Export/AS/KOR",
          "Import/AS/KOR",
          "Export/EU/LUX",
          "Import/EU/LUX",
          "Export/N.A/MEX",
          "Import/EU/NLD",
          "Import/EU/NOR",
          "Export/OC/NZL",
          "Import/OC/NZL",
          "Export/EU/POL",
          "Import/EU/POL",
          "Export/AS/JPN",
          "Import/EU/ITA",
          "Export/EU/SVK",
          "Export/EU/SWE",
          "Import/EU/SWE",
          "Export/EU/TUR",
          "Import/EU/TUR",
          "Export/N.A/USA",
          "Import/N.A/USA",
          "Export/AS",
          "Import/AS",
          "Export/N.A",
          "Export/OC",
          "Import/OC",
          "Export/EU/PRT",
          "Import/EU/PRT",
          "Import",
          "Export/EU/ISL",
          "Import/OC/AUS",
          "Import/EU/AUT",
          "Export/EU/BEL",
          "Import/EU/BEL",
          "Export/N.A/CAN",
          "Import/N.A/CAN",
          "Export/EU/CHE",
          "Import/EU/CHE",
          "Export/EU/CZE",
          "Export/EU/DEU",
          "Import/EU/DEU",
          "Export/EU/DNK",
          "Import/EU/ISL",
          "Export/EU/ESP",
          "Import/EU/ESP",
          "Import/EU/DNK",
          "Import/EU/FIN",
          "Import/EU/IRL",
          "Export/EU/IRL",
          "Import/EU/HUN",
          "Export/EU/HUN",
          "Export/EU/FIN",
          "Export/EU/GRC",
          "Import/EU/GRC",
          "Export/EU/GBR",
          "Import/N.A/MEX",
          "Export/EU/NOR",
          "Export/EU",
          "Import/N.A",
          "Export/EU/AUT",
          "Export/EU/FRA",
          "Import/EU/GBR",
          "Export/EU/NLD",
          "Import/EU",
          "Import/EU/FRA",
          "Export/OC/AUS"
         ],
         "labels": [
          "ITA",
          "CZE",
          "SVK",
          "Export",
          "JPN",
          "KOR",
          "KOR",
          "LUX",
          "LUX",
          "MEX",
          "NLD",
          "NOR",
          "NZL",
          "NZL",
          "POL",
          "POL",
          "JPN",
          "ITA",
          "SVK",
          "SWE",
          "SWE",
          "TUR",
          "TUR",
          "USA",
          "USA",
          "AS",
          "AS",
          "N.A",
          "OC",
          "OC",
          "PRT",
          "PRT",
          "Import",
          "ISL",
          "AUS",
          "AUT",
          "BEL",
          "BEL",
          "CAN",
          "CAN",
          "CHE",
          "CHE",
          "CZE",
          "DEU",
          "DEU",
          "DNK",
          "ISL",
          "ESP",
          "ESP",
          "DNK",
          "FIN",
          "IRL",
          "IRL",
          "HUN",
          "HUN",
          "FIN",
          "GRC",
          "GRC",
          "GBR",
          "MEX",
          "NOR",
          "EU",
          "N.A",
          "AUT",
          "FRA",
          "GBR",
          "NLD",
          "EU",
          "FRA",
          "AUS"
         ],
         "marker": {
          "colors": [
           "#636efa",
           "#636efa",
           "#636efa",
           "#EF553B",
           "#00cc96",
           "#00cc96",
           "#00cc96",
           "#636efa",
           "#636efa",
           "#ab63fa",
           "#636efa",
           "#636efa",
           "#FFA15A",
           "#FFA15A",
           "#636efa",
           "#636efa",
           "#00cc96",
           "#636efa",
           "#636efa",
           "#636efa",
           "#636efa",
           "#636efa",
           "#636efa",
           "#ab63fa",
           "#ab63fa",
           "#00cc96",
           "#00cc96",
           "#ab63fa",
           "#FFA15A",
           "#FFA15A",
           "#636efa",
           "#636efa",
           "#EF553B",
           "#636efa",
           "#FFA15A",
           "#636efa",
           "#636efa",
           "#636efa",
           "#ab63fa",
           "#ab63fa",
           "#636efa",
           "#636efa",
           "#636efa",
           "#636efa",
           "#636efa",
           "#636efa",
           "#636efa",
           "#636efa",
           "#636efa",
           "#636efa",
           "#636efa",
           "#636efa",
           "#636efa",
           "#636efa",
           "#636efa",
           "#636efa",
           "#636efa",
           "#636efa",
           "#636efa",
           "#ab63fa",
           "#636efa",
           "#636efa",
           "#ab63fa",
           "#636efa",
           "#636efa",
           "#636efa",
           "#636efa",
           "#636efa",
           "#636efa",
           "#FFA15A"
          ]
         },
         "name": "",
         "parents": [
          "Export/EU",
          "Import/EU",
          "Import/EU",
          "",
          "Import/AS",
          "Export/AS",
          "Import/AS",
          "Export/EU",
          "Import/EU",
          "Export/N.A",
          "Import/EU",
          "Import/EU",
          "Export/OC",
          "Import/OC",
          "Export/EU",
          "Import/EU",
          "Export/AS",
          "Import/EU",
          "Export/EU",
          "Export/EU",
          "Import/EU",
          "Export/EU",
          "Import/EU",
          "Export/N.A",
          "Import/N.A",
          "Export",
          "Import",
          "Export",
          "Export",
          "Import",
          "Export/EU",
          "Import/EU",
          "",
          "Export/EU",
          "Import/OC",
          "Import/EU",
          "Export/EU",
          "Import/EU",
          "Export/N.A",
          "Import/N.A",
          "Export/EU",
          "Import/EU",
          "Export/EU",
          "Export/EU",
          "Import/EU",
          "Export/EU",
          "Import/EU",
          "Export/EU",
          "Import/EU",
          "Import/EU",
          "Import/EU",
          "Import/EU",
          "Export/EU",
          "Import/EU",
          "Export/EU",
          "Export/EU",
          "Export/EU",
          "Import/EU",
          "Export/EU",
          "Import/N.A",
          "Export/EU",
          "Export",
          "Import",
          "Export/EU",
          "Export/EU",
          "Import/EU",
          "Export/EU",
          "Import",
          "Import/EU",
          "Export/OC"
         ],
         "type": "treemap",
         "values": [
          32798432582,
          0,
          0,
          503489967347,
          70121752085,
          0,
          0,
          0,
          0,
          0,
          33496378080,
          6621651499,
          0,
          0,
          0,
          0,
          61251824587,
          43004443003,
          0,
          12285603169,
          13283659501,
          1125229416,
          2347240333,
          98440873253,
          112370244749,
          61251824587,
          70121752085,
          128947558256,
          10431380746,
          9309192415,
          1895106751,
          3353905503,
          570623411588,
          357926917,
          9309192415,
          10181029170,
          0,
          0,
          30506685003,
          28449470329,
          12524138755,
          15408851332,
          0,
          78095853002,
          77144115161,
          6625343413,
          384517169,
          8929414417,
          15140527501,
          7592885585,
          6232755667,
          4673205082,
          3498910837,
          0,
          0,
          5614364249,
          2176717085,
          4398021667,
          47670604502,
          0,
          7138141747,
          302859203758,
          140819715078,
          7115160498,
          44854760584,
          50468685751,
          30153495834,
          350372752010,
          56640880006,
          10431380746
         ]
        }
       ],
       "layout": {
        "legend": {
         "tracegroupgap": 0
        },
        "template": {
         "data": {
          "bar": [
           {
            "error_x": {
             "color": "#2a3f5f"
            },
            "error_y": {
             "color": "#2a3f5f"
            },
            "marker": {
             "line": {
              "color": "#E5ECF6",
              "width": 0.5
             }
            },
            "type": "bar"
           }
          ],
          "barpolar": [
           {
            "marker": {
             "line": {
              "color": "#E5ECF6",
              "width": 0.5
             }
            },
            "type": "barpolar"
           }
          ],
          "carpet": [
           {
            "aaxis": {
             "endlinecolor": "#2a3f5f",
             "gridcolor": "white",
             "linecolor": "white",
             "minorgridcolor": "white",
             "startlinecolor": "#2a3f5f"
            },
            "baxis": {
             "endlinecolor": "#2a3f5f",
             "gridcolor": "white",
             "linecolor": "white",
             "minorgridcolor": "white",
             "startlinecolor": "#2a3f5f"
            },
            "type": "carpet"
           }
          ],
          "choropleth": [
           {
            "colorbar": {
             "outlinewidth": 0,
             "ticks": ""
            },
            "type": "choropleth"
           }
          ],
          "contour": [
           {
            "colorbar": {
             "outlinewidth": 0,
             "ticks": ""
            },
            "colorscale": [
             [
              0,
              "#0d0887"
             ],
             [
              0.1111111111111111,
              "#46039f"
             ],
             [
              0.2222222222222222,
              "#7201a8"
             ],
             [
              0.3333333333333333,
              "#9c179e"
             ],
             [
              0.4444444444444444,
              "#bd3786"
             ],
             [
              0.5555555555555556,
              "#d8576b"
             ],
             [
              0.6666666666666666,
              "#ed7953"
             ],
             [
              0.7777777777777778,
              "#fb9f3a"
             ],
             [
              0.8888888888888888,
              "#fdca26"
             ],
             [
              1,
              "#f0f921"
             ]
            ],
            "type": "contour"
           }
          ],
          "contourcarpet": [
           {
            "colorbar": {
             "outlinewidth": 0,
             "ticks": ""
            },
            "type": "contourcarpet"
           }
          ],
          "heatmap": [
           {
            "colorbar": {
             "outlinewidth": 0,
             "ticks": ""
            },
            "colorscale": [
             [
              0,
              "#0d0887"
             ],
             [
              0.1111111111111111,
              "#46039f"
             ],
             [
              0.2222222222222222,
              "#7201a8"
             ],
             [
              0.3333333333333333,
              "#9c179e"
             ],
             [
              0.4444444444444444,
              "#bd3786"
             ],
             [
              0.5555555555555556,
              "#d8576b"
             ],
             [
              0.6666666666666666,
              "#ed7953"
             ],
             [
              0.7777777777777778,
              "#fb9f3a"
             ],
             [
              0.8888888888888888,
              "#fdca26"
             ],
             [
              1,
              "#f0f921"
             ]
            ],
            "type": "heatmap"
           }
          ],
          "heatmapgl": [
           {
            "colorbar": {
             "outlinewidth": 0,
             "ticks": ""
            },
            "colorscale": [
             [
              0,
              "#0d0887"
             ],
             [
              0.1111111111111111,
              "#46039f"
             ],
             [
              0.2222222222222222,
              "#7201a8"
             ],
             [
              0.3333333333333333,
              "#9c179e"
             ],
             [
              0.4444444444444444,
              "#bd3786"
             ],
             [
              0.5555555555555556,
              "#d8576b"
             ],
             [
              0.6666666666666666,
              "#ed7953"
             ],
             [
              0.7777777777777778,
              "#fb9f3a"
             ],
             [
              0.8888888888888888,
              "#fdca26"
             ],
             [
              1,
              "#f0f921"
             ]
            ],
            "type": "heatmapgl"
           }
          ],
          "histogram": [
           {
            "marker": {
             "colorbar": {
              "outlinewidth": 0,
              "ticks": ""
             }
            },
            "type": "histogram"
           }
          ],
          "histogram2d": [
           {
            "colorbar": {
             "outlinewidth": 0,
             "ticks": ""
            },
            "colorscale": [
             [
              0,
              "#0d0887"
             ],
             [
              0.1111111111111111,
              "#46039f"
             ],
             [
              0.2222222222222222,
              "#7201a8"
             ],
             [
              0.3333333333333333,
              "#9c179e"
             ],
             [
              0.4444444444444444,
              "#bd3786"
             ],
             [
              0.5555555555555556,
              "#d8576b"
             ],
             [
              0.6666666666666666,
              "#ed7953"
             ],
             [
              0.7777777777777778,
              "#fb9f3a"
             ],
             [
              0.8888888888888888,
              "#fdca26"
             ],
             [
              1,
              "#f0f921"
             ]
            ],
            "type": "histogram2d"
           }
          ],
          "histogram2dcontour": [
           {
            "colorbar": {
             "outlinewidth": 0,
             "ticks": ""
            },
            "colorscale": [
             [
              0,
              "#0d0887"
             ],
             [
              0.1111111111111111,
              "#46039f"
             ],
             [
              0.2222222222222222,
              "#7201a8"
             ],
             [
              0.3333333333333333,
              "#9c179e"
             ],
             [
              0.4444444444444444,
              "#bd3786"
             ],
             [
              0.5555555555555556,
              "#d8576b"
             ],
             [
              0.6666666666666666,
              "#ed7953"
             ],
             [
              0.7777777777777778,
              "#fb9f3a"
             ],
             [
              0.8888888888888888,
              "#fdca26"
             ],
             [
              1,
              "#f0f921"
             ]
            ],
            "type": "histogram2dcontour"
           }
          ],
          "mesh3d": [
           {
            "colorbar": {
             "outlinewidth": 0,
             "ticks": ""
            },
            "type": "mesh3d"
           }
          ],
          "parcoords": [
           {
            "line": {
             "colorbar": {
              "outlinewidth": 0,
              "ticks": ""
             }
            },
            "type": "parcoords"
           }
          ],
          "pie": [
           {
            "automargin": true,
            "type": "pie"
           }
          ],
          "scatter": [
           {
            "marker": {
             "colorbar": {
              "outlinewidth": 0,
              "ticks": ""
             }
            },
            "type": "scatter"
           }
          ],
          "scatter3d": [
           {
            "line": {
             "colorbar": {
              "outlinewidth": 0,
              "ticks": ""
             }
            },
            "marker": {
             "colorbar": {
              "outlinewidth": 0,
              "ticks": ""
             }
            },
            "type": "scatter3d"
           }
          ],
          "scattercarpet": [
           {
            "marker": {
             "colorbar": {
              "outlinewidth": 0,
              "ticks": ""
             }
            },
            "type": "scattercarpet"
           }
          ],
          "scattergeo": [
           {
            "marker": {
             "colorbar": {
              "outlinewidth": 0,
              "ticks": ""
             }
            },
            "type": "scattergeo"
           }
          ],
          "scattergl": [
           {
            "marker": {
             "colorbar": {
              "outlinewidth": 0,
              "ticks": ""
             }
            },
            "type": "scattergl"
           }
          ],
          "scattermapbox": [
           {
            "marker": {
             "colorbar": {
              "outlinewidth": 0,
              "ticks": ""
             }
            },
            "type": "scattermapbox"
           }
          ],
          "scatterpolar": [
           {
            "marker": {
             "colorbar": {
              "outlinewidth": 0,
              "ticks": ""
             }
            },
            "type": "scatterpolar"
           }
          ],
          "scatterpolargl": [
           {
            "marker": {
             "colorbar": {
              "outlinewidth": 0,
              "ticks": ""
             }
            },
            "type": "scatterpolargl"
           }
          ],
          "scatterternary": [
           {
            "marker": {
             "colorbar": {
              "outlinewidth": 0,
              "ticks": ""
             }
            },
            "type": "scatterternary"
           }
          ],
          "surface": [
           {
            "colorbar": {
             "outlinewidth": 0,
             "ticks": ""
            },
            "colorscale": [
             [
              0,
              "#0d0887"
             ],
             [
              0.1111111111111111,
              "#46039f"
             ],
             [
              0.2222222222222222,
              "#7201a8"
             ],
             [
              0.3333333333333333,
              "#9c179e"
             ],
             [
              0.4444444444444444,
              "#bd3786"
             ],
             [
              0.5555555555555556,
              "#d8576b"
             ],
             [
              0.6666666666666666,
              "#ed7953"
             ],
             [
              0.7777777777777778,
              "#fb9f3a"
             ],
             [
              0.8888888888888888,
              "#fdca26"
             ],
             [
              1,
              "#f0f921"
             ]
            ],
            "type": "surface"
           }
          ],
          "table": [
           {
            "cells": {
             "fill": {
              "color": "#EBF0F8"
             },
             "line": {
              "color": "white"
             }
            },
            "header": {
             "fill": {
              "color": "#C8D4E3"
             },
             "line": {
              "color": "white"
             }
            },
            "type": "table"
           }
          ]
         },
         "layout": {
          "annotationdefaults": {
           "arrowcolor": "#2a3f5f",
           "arrowhead": 0,
           "arrowwidth": 1
          },
          "autotypenumbers": "strict",
          "coloraxis": {
           "colorbar": {
            "outlinewidth": 0,
            "ticks": ""
           }
          },
          "colorscale": {
           "diverging": [
            [
             0,
             "#8e0152"
            ],
            [
             0.1,
             "#c51b7d"
            ],
            [
             0.2,
             "#de77ae"
            ],
            [
             0.3,
             "#f1b6da"
            ],
            [
             0.4,
             "#fde0ef"
            ],
            [
             0.5,
             "#f7f7f7"
            ],
            [
             0.6,
             "#e6f5d0"
            ],
            [
             0.7,
             "#b8e186"
            ],
            [
             0.8,
             "#7fbc41"
            ],
            [
             0.9,
             "#4d9221"
            ],
            [
             1,
             "#276419"
            ]
           ],
           "sequential": [
            [
             0,
             "#0d0887"
            ],
            [
             0.1111111111111111,
             "#46039f"
            ],
            [
             0.2222222222222222,
             "#7201a8"
            ],
            [
             0.3333333333333333,
             "#9c179e"
            ],
            [
             0.4444444444444444,
             "#bd3786"
            ],
            [
             0.5555555555555556,
             "#d8576b"
            ],
            [
             0.6666666666666666,
             "#ed7953"
            ],
            [
             0.7777777777777778,
             "#fb9f3a"
            ],
            [
             0.8888888888888888,
             "#fdca26"
            ],
            [
             1,
             "#f0f921"
            ]
           ],
           "sequentialminus": [
            [
             0,
             "#0d0887"
            ],
            [
             0.1111111111111111,
             "#46039f"
            ],
            [
             0.2222222222222222,
             "#7201a8"
            ],
            [
             0.3333333333333333,
             "#9c179e"
            ],
            [
             0.4444444444444444,
             "#bd3786"
            ],
            [
             0.5555555555555556,
             "#d8576b"
            ],
            [
             0.6666666666666666,
             "#ed7953"
            ],
            [
             0.7777777777777778,
             "#fb9f3a"
            ],
            [
             0.8888888888888888,
             "#fdca26"
            ],
            [
             1,
             "#f0f921"
            ]
           ]
          },
          "colorway": [
           "#636efa",
           "#EF553B",
           "#00cc96",
           "#ab63fa",
           "#FFA15A",
           "#19d3f3",
           "#FF6692",
           "#B6E880",
           "#FF97FF",
           "#FECB52"
          ],
          "font": {
           "color": "#2a3f5f"
          },
          "geo": {
           "bgcolor": "white",
           "lakecolor": "white",
           "landcolor": "#E5ECF6",
           "showlakes": true,
           "showland": true,
           "subunitcolor": "white"
          },
          "hoverlabel": {
           "align": "left"
          },
          "hovermode": "closest",
          "mapbox": {
           "style": "light"
          },
          "paper_bgcolor": "white",
          "plot_bgcolor": "#E5ECF6",
          "polar": {
           "angularaxis": {
            "gridcolor": "white",
            "linecolor": "white",
            "ticks": ""
           },
           "bgcolor": "#E5ECF6",
           "radialaxis": {
            "gridcolor": "white",
            "linecolor": "white",
            "ticks": ""
           }
          },
          "scene": {
           "xaxis": {
            "backgroundcolor": "#E5ECF6",
            "gridcolor": "white",
            "gridwidth": 2,
            "linecolor": "white",
            "showbackground": true,
            "ticks": "",
            "zerolinecolor": "white"
           },
           "yaxis": {
            "backgroundcolor": "#E5ECF6",
            "gridcolor": "white",
            "gridwidth": 2,
            "linecolor": "white",
            "showbackground": true,
            "ticks": "",
            "zerolinecolor": "white"
           },
           "zaxis": {
            "backgroundcolor": "#E5ECF6",
            "gridcolor": "white",
            "gridwidth": 2,
            "linecolor": "white",
            "showbackground": true,
            "ticks": "",
            "zerolinecolor": "white"
           }
          },
          "shapedefaults": {
           "line": {
            "color": "#2a3f5f"
           }
          },
          "ternary": {
           "aaxis": {
            "gridcolor": "white",
            "linecolor": "white",
            "ticks": ""
           },
           "baxis": {
            "gridcolor": "white",
            "linecolor": "white",
            "ticks": ""
           },
           "bgcolor": "#E5ECF6",
           "caxis": {
            "gridcolor": "white",
            "linecolor": "white",
            "ticks": ""
           }
          },
          "title": {
           "x": 0.05
          },
          "xaxis": {
           "automargin": true,
           "gridcolor": "white",
           "linecolor": "white",
           "ticks": "",
           "title": {
            "standoff": 15
           },
           "zerolinecolor": "white",
           "zerolinewidth": 2
          },
          "yaxis": {
           "automargin": true,
           "gridcolor": "white",
           "linecolor": "white",
           "ticks": "",
           "title": {
            "standoff": 15
           },
           "zerolinecolor": "white",
           "zerolinewidth": 2
          }
         }
        },
        "title": {
         "text": " Treemap del flujo comercial para el año 1980"
        }
       }
      },
      "text/html": [
       "<div>                            <div id=\"1c2066fa-2a7c-4d4c-891b-2db009ae8074\" class=\"plotly-graph-div\" style=\"height:525px; width:100%;\"></div>            <script type=\"text/javascript\">                require([\"plotly\"], function(Plotly) {                    window.PLOTLYENV=window.PLOTLYENV || {};                                    if (document.getElementById(\"1c2066fa-2a7c-4d4c-891b-2db009ae8074\")) {                    Plotly.newPlot(                        \"1c2066fa-2a7c-4d4c-891b-2db009ae8074\",                        [{\"branchvalues\": \"total\", \"customdata\": [[\"EU\"], [\"EU\"], [\"EU\"], [\"(?)\"], [\"AS\"], [\"AS\"], [\"AS\"], [\"EU\"], [\"EU\"], [\"N.A\"], [\"EU\"], [\"EU\"], [\"OC\"], [\"OC\"], [\"EU\"], [\"EU\"], [\"AS\"], [\"EU\"], [\"EU\"], [\"EU\"], [\"EU\"], [\"EU\"], [\"EU\"], [\"N.A\"], [\"N.A\"], [\"AS\"], [\"AS\"], [\"N.A\"], [\"OC\"], [\"OC\"], [\"EU\"], [\"EU\"], [\"(?)\"], [\"EU\"], [\"OC\"], [\"EU\"], [\"EU\"], [\"EU\"], [\"N.A\"], [\"N.A\"], [\"EU\"], [\"EU\"], [\"EU\"], [\"EU\"], [\"EU\"], [\"EU\"], [\"EU\"], [\"EU\"], [\"EU\"], [\"EU\"], [\"EU\"], [\"EU\"], [\"EU\"], [\"EU\"], [\"EU\"], [\"EU\"], [\"EU\"], [\"EU\"], [\"EU\"], [\"N.A\"], [\"EU\"], [\"EU\"], [\"N.A\"], [\"EU\"], [\"EU\"], [\"EU\"], [\"EU\"], [\"EU\"], [\"EU\"], [\"OC\"]], \"domain\": {\"x\": [0.0, 1.0], \"y\": [0.0, 1.0]}, \"hovertemplate\": \"labels=%{label}<br>amount=%{value}<br>parent=%{parent}<br>id=%{id}<br>continent1=%{customdata[0]}<extra></extra>\", \"ids\": [\"Export/EU/ITA\", \"Import/EU/CZE\", \"Import/EU/SVK\", \"Export\", \"Import/AS/JPN\", \"Export/AS/KOR\", \"Import/AS/KOR\", \"Export/EU/LUX\", \"Import/EU/LUX\", \"Export/N.A/MEX\", \"Import/EU/NLD\", \"Import/EU/NOR\", \"Export/OC/NZL\", \"Import/OC/NZL\", \"Export/EU/POL\", \"Import/EU/POL\", \"Export/AS/JPN\", \"Import/EU/ITA\", \"Export/EU/SVK\", \"Export/EU/SWE\", \"Import/EU/SWE\", \"Export/EU/TUR\", \"Import/EU/TUR\", \"Export/N.A/USA\", \"Import/N.A/USA\", \"Export/AS\", \"Import/AS\", \"Export/N.A\", \"Export/OC\", \"Import/OC\", \"Export/EU/PRT\", \"Import/EU/PRT\", \"Import\", \"Export/EU/ISL\", \"Import/OC/AUS\", \"Import/EU/AUT\", \"Export/EU/BEL\", \"Import/EU/BEL\", \"Export/N.A/CAN\", \"Import/N.A/CAN\", \"Export/EU/CHE\", \"Import/EU/CHE\", \"Export/EU/CZE\", \"Export/EU/DEU\", \"Import/EU/DEU\", \"Export/EU/DNK\", \"Import/EU/ISL\", \"Export/EU/ESP\", \"Import/EU/ESP\", \"Import/EU/DNK\", \"Import/EU/FIN\", \"Import/EU/IRL\", \"Export/EU/IRL\", \"Import/EU/HUN\", \"Export/EU/HUN\", \"Export/EU/FIN\", \"Export/EU/GRC\", \"Import/EU/GRC\", \"Export/EU/GBR\", \"Import/N.A/MEX\", \"Export/EU/NOR\", \"Export/EU\", \"Import/N.A\", \"Export/EU/AUT\", \"Export/EU/FRA\", \"Import/EU/GBR\", \"Export/EU/NLD\", \"Import/EU\", \"Import/EU/FRA\", \"Export/OC/AUS\"], \"labels\": [\"ITA\", \"CZE\", \"SVK\", \"Export\", \"JPN\", \"KOR\", \"KOR\", \"LUX\", \"LUX\", \"MEX\", \"NLD\", \"NOR\", \"NZL\", \"NZL\", \"POL\", \"POL\", \"JPN\", \"ITA\", \"SVK\", \"SWE\", \"SWE\", \"TUR\", \"TUR\", \"USA\", \"USA\", \"AS\", \"AS\", \"N.A\", \"OC\", \"OC\", \"PRT\", \"PRT\", \"Import\", \"ISL\", \"AUS\", \"AUT\", \"BEL\", \"BEL\", \"CAN\", \"CAN\", \"CHE\", \"CHE\", \"CZE\", \"DEU\", \"DEU\", \"DNK\", \"ISL\", \"ESP\", \"ESP\", \"DNK\", \"FIN\", \"IRL\", \"IRL\", \"HUN\", \"HUN\", \"FIN\", \"GRC\", \"GRC\", \"GBR\", \"MEX\", \"NOR\", \"EU\", \"N.A\", \"AUT\", \"FRA\", \"GBR\", \"NLD\", \"EU\", \"FRA\", \"AUS\"], \"marker\": {\"colors\": [\"#636efa\", \"#636efa\", \"#636efa\", \"#EF553B\", \"#00cc96\", \"#00cc96\", \"#00cc96\", \"#636efa\", \"#636efa\", \"#ab63fa\", \"#636efa\", \"#636efa\", \"#FFA15A\", \"#FFA15A\", \"#636efa\", \"#636efa\", \"#00cc96\", \"#636efa\", \"#636efa\", \"#636efa\", \"#636efa\", \"#636efa\", \"#636efa\", \"#ab63fa\", \"#ab63fa\", \"#00cc96\", \"#00cc96\", \"#ab63fa\", \"#FFA15A\", \"#FFA15A\", \"#636efa\", \"#636efa\", \"#EF553B\", \"#636efa\", \"#FFA15A\", \"#636efa\", \"#636efa\", \"#636efa\", \"#ab63fa\", \"#ab63fa\", \"#636efa\", \"#636efa\", \"#636efa\", \"#636efa\", \"#636efa\", \"#636efa\", \"#636efa\", \"#636efa\", \"#636efa\", \"#636efa\", \"#636efa\", \"#636efa\", \"#636efa\", \"#636efa\", \"#636efa\", \"#636efa\", \"#636efa\", \"#636efa\", \"#636efa\", \"#ab63fa\", \"#636efa\", \"#636efa\", \"#ab63fa\", \"#636efa\", \"#636efa\", \"#636efa\", \"#636efa\", \"#636efa\", \"#636efa\", \"#FFA15A\"]}, \"name\": \"\", \"parents\": [\"Export/EU\", \"Import/EU\", \"Import/EU\", \"\", \"Import/AS\", \"Export/AS\", \"Import/AS\", \"Export/EU\", \"Import/EU\", \"Export/N.A\", \"Import/EU\", \"Import/EU\", \"Export/OC\", \"Import/OC\", \"Export/EU\", \"Import/EU\", \"Export/AS\", \"Import/EU\", \"Export/EU\", \"Export/EU\", \"Import/EU\", \"Export/EU\", \"Import/EU\", \"Export/N.A\", \"Import/N.A\", \"Export\", \"Import\", \"Export\", \"Export\", \"Import\", \"Export/EU\", \"Import/EU\", \"\", \"Export/EU\", \"Import/OC\", \"Import/EU\", \"Export/EU\", \"Import/EU\", \"Export/N.A\", \"Import/N.A\", \"Export/EU\", \"Import/EU\", \"Export/EU\", \"Export/EU\", \"Import/EU\", \"Export/EU\", \"Import/EU\", \"Export/EU\", \"Import/EU\", \"Import/EU\", \"Import/EU\", \"Import/EU\", \"Export/EU\", \"Import/EU\", \"Export/EU\", \"Export/EU\", \"Export/EU\", \"Import/EU\", \"Export/EU\", \"Import/N.A\", \"Export/EU\", \"Export\", \"Import\", \"Export/EU\", \"Export/EU\", \"Import/EU\", \"Export/EU\", \"Import\", \"Import/EU\", \"Export/OC\"], \"type\": \"treemap\", \"values\": [32798432582.0, 0.0, 0.0, 503489967347.0, 70121752085.0, 0.0, 0.0, 0.0, 0.0, 0.0, 33496378080.0, 6621651499.0, 0.0, 0.0, 0.0, 0.0, 61251824587.0, 43004443003.0, 0.0, 12285603169.0, 13283659501.0, 1125229416.0, 2347240333.0, 98440873253.0, 112370244749.0, 61251824587.0, 70121752085.0, 128947558256.0, 10431380746.0, 9309192415.0, 1895106751.0, 3353905503.0, 570623411588.0, 357926917.0, 9309192415.0, 10181029170.0, 0.0, 0.0, 30506685003.0, 28449470329.0, 12524138755.0, 15408851332.0, 0.0, 78095853002.0, 77144115161.0, 6625343413.0, 384517169.0, 8929414417.0, 15140527501.0, 7592885585.0, 6232755667.0, 4673205082.0, 3498910837.0, 0.0, 0.0, 5614364249.0, 2176717085.0, 4398021667.0, 47670604502.0, 0.0, 7138141747.0, 302859203758.0, 140819715078.0, 7115160498.0, 44854760584.0, 50468685751.0, 30153495834.0, 350372752010.0, 56640880006.0, 10431380746.0]}],                        {\"legend\": {\"tracegroupgap\": 0}, \"template\": {\"data\": {\"bar\": [{\"error_x\": {\"color\": \"#2a3f5f\"}, \"error_y\": {\"color\": \"#2a3f5f\"}, \"marker\": {\"line\": {\"color\": \"#E5ECF6\", \"width\": 0.5}}, \"type\": \"bar\"}], \"barpolar\": [{\"marker\": {\"line\": {\"color\": \"#E5ECF6\", \"width\": 0.5}}, \"type\": \"barpolar\"}], \"carpet\": [{\"aaxis\": {\"endlinecolor\": \"#2a3f5f\", \"gridcolor\": \"white\", \"linecolor\": \"white\", \"minorgridcolor\": \"white\", \"startlinecolor\": \"#2a3f5f\"}, \"baxis\": {\"endlinecolor\": \"#2a3f5f\", \"gridcolor\": \"white\", \"linecolor\": \"white\", \"minorgridcolor\": \"white\", \"startlinecolor\": \"#2a3f5f\"}, \"type\": \"carpet\"}], \"choropleth\": [{\"colorbar\": {\"outlinewidth\": 0, \"ticks\": \"\"}, \"type\": \"choropleth\"}], \"contour\": [{\"colorbar\": {\"outlinewidth\": 0, \"ticks\": \"\"}, \"colorscale\": [[0.0, \"#0d0887\"], [0.1111111111111111, \"#46039f\"], [0.2222222222222222, \"#7201a8\"], [0.3333333333333333, \"#9c179e\"], [0.4444444444444444, \"#bd3786\"], [0.5555555555555556, \"#d8576b\"], [0.6666666666666666, \"#ed7953\"], [0.7777777777777778, \"#fb9f3a\"], [0.8888888888888888, \"#fdca26\"], [1.0, \"#f0f921\"]], \"type\": \"contour\"}], \"contourcarpet\": [{\"colorbar\": {\"outlinewidth\": 0, \"ticks\": \"\"}, \"type\": \"contourcarpet\"}], \"heatmap\": [{\"colorbar\": {\"outlinewidth\": 0, \"ticks\": \"\"}, \"colorscale\": [[0.0, \"#0d0887\"], [0.1111111111111111, \"#46039f\"], [0.2222222222222222, \"#7201a8\"], [0.3333333333333333, \"#9c179e\"], [0.4444444444444444, \"#bd3786\"], [0.5555555555555556, \"#d8576b\"], [0.6666666666666666, \"#ed7953\"], [0.7777777777777778, \"#fb9f3a\"], [0.8888888888888888, \"#fdca26\"], [1.0, \"#f0f921\"]], \"type\": \"heatmap\"}], \"heatmapgl\": [{\"colorbar\": {\"outlinewidth\": 0, \"ticks\": \"\"}, \"colorscale\": [[0.0, \"#0d0887\"], [0.1111111111111111, \"#46039f\"], [0.2222222222222222, \"#7201a8\"], [0.3333333333333333, \"#9c179e\"], [0.4444444444444444, \"#bd3786\"], [0.5555555555555556, \"#d8576b\"], [0.6666666666666666, \"#ed7953\"], [0.7777777777777778, \"#fb9f3a\"], [0.8888888888888888, \"#fdca26\"], [1.0, \"#f0f921\"]], \"type\": \"heatmapgl\"}], \"histogram\": [{\"marker\": {\"colorbar\": {\"outlinewidth\": 0, \"ticks\": \"\"}}, \"type\": \"histogram\"}], \"histogram2d\": [{\"colorbar\": {\"outlinewidth\": 0, \"ticks\": \"\"}, \"colorscale\": [[0.0, \"#0d0887\"], [0.1111111111111111, \"#46039f\"], [0.2222222222222222, \"#7201a8\"], [0.3333333333333333, \"#9c179e\"], [0.4444444444444444, \"#bd3786\"], [0.5555555555555556, \"#d8576b\"], [0.6666666666666666, \"#ed7953\"], [0.7777777777777778, \"#fb9f3a\"], [0.8888888888888888, \"#fdca26\"], [1.0, \"#f0f921\"]], \"type\": \"histogram2d\"}], \"histogram2dcontour\": [{\"colorbar\": {\"outlinewidth\": 0, \"ticks\": \"\"}, \"colorscale\": [[0.0, \"#0d0887\"], [0.1111111111111111, \"#46039f\"], [0.2222222222222222, \"#7201a8\"], [0.3333333333333333, \"#9c179e\"], [0.4444444444444444, \"#bd3786\"], [0.5555555555555556, \"#d8576b\"], [0.6666666666666666, \"#ed7953\"], [0.7777777777777778, \"#fb9f3a\"], [0.8888888888888888, \"#fdca26\"], [1.0, \"#f0f921\"]], \"type\": \"histogram2dcontour\"}], \"mesh3d\": [{\"colorbar\": {\"outlinewidth\": 0, \"ticks\": \"\"}, \"type\": \"mesh3d\"}], \"parcoords\": [{\"line\": {\"colorbar\": {\"outlinewidth\": 0, \"ticks\": \"\"}}, \"type\": \"parcoords\"}], \"pie\": [{\"automargin\": true, \"type\": \"pie\"}], \"scatter\": [{\"marker\": {\"colorbar\": {\"outlinewidth\": 0, \"ticks\": \"\"}}, \"type\": \"scatter\"}], \"scatter3d\": [{\"line\": {\"colorbar\": {\"outlinewidth\": 0, \"ticks\": \"\"}}, \"marker\": {\"colorbar\": {\"outlinewidth\": 0, \"ticks\": \"\"}}, \"type\": \"scatter3d\"}], \"scattercarpet\": [{\"marker\": {\"colorbar\": {\"outlinewidth\": 0, \"ticks\": \"\"}}, \"type\": \"scattercarpet\"}], \"scattergeo\": [{\"marker\": {\"colorbar\": {\"outlinewidth\": 0, \"ticks\": \"\"}}, \"type\": \"scattergeo\"}], \"scattergl\": [{\"marker\": {\"colorbar\": {\"outlinewidth\": 0, \"ticks\": \"\"}}, \"type\": \"scattergl\"}], \"scattermapbox\": [{\"marker\": {\"colorbar\": {\"outlinewidth\": 0, \"ticks\": \"\"}}, \"type\": \"scattermapbox\"}], \"scatterpolar\": [{\"marker\": {\"colorbar\": {\"outlinewidth\": 0, \"ticks\": \"\"}}, \"type\": \"scatterpolar\"}], \"scatterpolargl\": [{\"marker\": {\"colorbar\": {\"outlinewidth\": 0, \"ticks\": \"\"}}, \"type\": \"scatterpolargl\"}], \"scatterternary\": [{\"marker\": {\"colorbar\": {\"outlinewidth\": 0, \"ticks\": \"\"}}, \"type\": \"scatterternary\"}], \"surface\": [{\"colorbar\": {\"outlinewidth\": 0, \"ticks\": \"\"}, \"colorscale\": [[0.0, \"#0d0887\"], [0.1111111111111111, \"#46039f\"], [0.2222222222222222, \"#7201a8\"], [0.3333333333333333, \"#9c179e\"], [0.4444444444444444, \"#bd3786\"], [0.5555555555555556, \"#d8576b\"], [0.6666666666666666, \"#ed7953\"], [0.7777777777777778, \"#fb9f3a\"], [0.8888888888888888, \"#fdca26\"], [1.0, \"#f0f921\"]], \"type\": \"surface\"}], \"table\": [{\"cells\": {\"fill\": {\"color\": \"#EBF0F8\"}, \"line\": {\"color\": \"white\"}}, \"header\": {\"fill\": {\"color\": \"#C8D4E3\"}, \"line\": {\"color\": \"white\"}}, \"type\": \"table\"}]}, \"layout\": {\"annotationdefaults\": {\"arrowcolor\": \"#2a3f5f\", \"arrowhead\": 0, \"arrowwidth\": 1}, \"autotypenumbers\": \"strict\", \"coloraxis\": {\"colorbar\": {\"outlinewidth\": 0, \"ticks\": \"\"}}, \"colorscale\": {\"diverging\": [[0, \"#8e0152\"], [0.1, \"#c51b7d\"], [0.2, \"#de77ae\"], [0.3, \"#f1b6da\"], [0.4, \"#fde0ef\"], [0.5, \"#f7f7f7\"], [0.6, \"#e6f5d0\"], [0.7, \"#b8e186\"], [0.8, \"#7fbc41\"], [0.9, \"#4d9221\"], [1, \"#276419\"]], \"sequential\": [[0.0, \"#0d0887\"], [0.1111111111111111, \"#46039f\"], [0.2222222222222222, \"#7201a8\"], [0.3333333333333333, \"#9c179e\"], [0.4444444444444444, \"#bd3786\"], [0.5555555555555556, \"#d8576b\"], [0.6666666666666666, \"#ed7953\"], [0.7777777777777778, \"#fb9f3a\"], [0.8888888888888888, \"#fdca26\"], [1.0, \"#f0f921\"]], \"sequentialminus\": [[0.0, \"#0d0887\"], [0.1111111111111111, \"#46039f\"], [0.2222222222222222, \"#7201a8\"], [0.3333333333333333, \"#9c179e\"], [0.4444444444444444, \"#bd3786\"], [0.5555555555555556, \"#d8576b\"], [0.6666666666666666, \"#ed7953\"], [0.7777777777777778, \"#fb9f3a\"], [0.8888888888888888, \"#fdca26\"], [1.0, \"#f0f921\"]]}, \"colorway\": [\"#636efa\", \"#EF553B\", \"#00cc96\", \"#ab63fa\", \"#FFA15A\", \"#19d3f3\", \"#FF6692\", \"#B6E880\", \"#FF97FF\", \"#FECB52\"], \"font\": {\"color\": \"#2a3f5f\"}, \"geo\": {\"bgcolor\": \"white\", \"lakecolor\": \"white\", \"landcolor\": \"#E5ECF6\", \"showlakes\": true, \"showland\": true, \"subunitcolor\": \"white\"}, \"hoverlabel\": {\"align\": \"left\"}, \"hovermode\": \"closest\", \"mapbox\": {\"style\": \"light\"}, \"paper_bgcolor\": \"white\", \"plot_bgcolor\": \"#E5ECF6\", \"polar\": {\"angularaxis\": {\"gridcolor\": \"white\", \"linecolor\": \"white\", \"ticks\": \"\"}, \"bgcolor\": \"#E5ECF6\", \"radialaxis\": {\"gridcolor\": \"white\", \"linecolor\": \"white\", \"ticks\": \"\"}}, \"scene\": {\"xaxis\": {\"backgroundcolor\": \"#E5ECF6\", \"gridcolor\": \"white\", \"gridwidth\": 2, \"linecolor\": \"white\", \"showbackground\": true, \"ticks\": \"\", \"zerolinecolor\": \"white\"}, \"yaxis\": {\"backgroundcolor\": \"#E5ECF6\", \"gridcolor\": \"white\", \"gridwidth\": 2, \"linecolor\": \"white\", \"showbackground\": true, \"ticks\": \"\", \"zerolinecolor\": \"white\"}, \"zaxis\": {\"backgroundcolor\": \"#E5ECF6\", \"gridcolor\": \"white\", \"gridwidth\": 2, \"linecolor\": \"white\", \"showbackground\": true, \"ticks\": \"\", \"zerolinecolor\": \"white\"}}, \"shapedefaults\": {\"line\": {\"color\": \"#2a3f5f\"}}, \"ternary\": {\"aaxis\": {\"gridcolor\": \"white\", \"linecolor\": \"white\", \"ticks\": \"\"}, \"baxis\": {\"gridcolor\": \"white\", \"linecolor\": \"white\", \"ticks\": \"\"}, \"bgcolor\": \"#E5ECF6\", \"caxis\": {\"gridcolor\": \"white\", \"linecolor\": \"white\", \"ticks\": \"\"}}, \"title\": {\"x\": 0.05}, \"xaxis\": {\"automargin\": true, \"gridcolor\": \"white\", \"linecolor\": \"white\", \"ticks\": \"\", \"title\": {\"standoff\": 15}, \"zerolinecolor\": \"white\", \"zerolinewidth\": 2}, \"yaxis\": {\"automargin\": true, \"gridcolor\": \"white\", \"linecolor\": \"white\", \"ticks\": \"\", \"title\": {\"standoff\": 15}, \"zerolinecolor\": \"white\", \"zerolinewidth\": 2}}}, \"title\": {\"text\": \" Treemap del flujo comercial para el a\\u00f1o 1980\"}},                        {\"responsive\": true}                    ).then(function(){\n",
       "                            \n",
       "var gd = document.getElementById('1c2066fa-2a7c-4d4c-891b-2db009ae8074');\n",
       "var x = new MutationObserver(function (mutations, observer) {{\n",
       "        var display = window.getComputedStyle(gd).display;\n",
       "        if (!display || display === 'none') {{\n",
       "            console.log([gd, 'removed!']);\n",
       "            Plotly.purge(gd);\n",
       "            observer.disconnect();\n",
       "        }}\n",
       "}});\n",
       "\n",
       "// Listen for the removal of the full notebook cells\n",
       "var notebookContainer = gd.closest('#notebook-container');\n",
       "if (notebookContainer) {{\n",
       "    x.observe(notebookContainer, {childList: true});\n",
       "}}\n",
       "\n",
       "// Listen for the clearing of the current output cell\n",
       "var outputEl = gd.closest('.output');\n",
       "if (outputEl) {{\n",
       "    x.observe(outputEl, {childList: true});\n",
       "}}\n",
       "\n",
       "                        })                };                });            </script>        </div>"
      ]
     },
     "metadata": {},
     "output_type": "display_data"
    }
   ],
   "source": [
    "fig = px.treemap(df, path=['flow', 'continent1', 'country1'], values='amount', color = \"continent1\", title = \" Treemap del flujo comercial para el año 1980\")\n",
    "\n",
    "fig.show()"
   ]
  },
  {
   "attachments": {
    "treemap.png": {
     "image/png": "[encoded data removed]"
    }
   },
   "cell_type": "markdown",
   "metadata": {},
   "source": [
    "![treemap.png](attachment:treemap.png)"
   ]
  },
  {
   "cell_type": "markdown",
   "metadata": {},
   "source": [
    "## Framework"
   ]
  },
  {
   "cell_type": "markdown",
   "metadata": {},
   "source": [
    "### What?\n",
    "\n",
    "Para esta visualización se contó con datos de tipo árbol, donde el nodo principal hace referencia a el flujo comercial, posteriormente de este se desprenden dos nodos con exportaciones e importaciones y para terminar de estos dos nodos se desprenden nodos que denotan los continentes y los países correspondientes, todo esto de manera jerárquica. Además de esto se cuenta con un atributo cuantitativo el cual es el monto de exportaciones e importaciones por país para el año 1980.\n",
    "\n",
    "### Why ? \n",
    "\n",
    "El objetivo principal de esta visualización es observar la estructura jerárquica que presento el flujo comercial en el año de 1980, además analizar la distribución del atributo cuantitativo en los nodos hoja como lo es el monto por exportaciones e importaciones en cada país para este año, esto con el fin de poder hacer comparaciones respecto a este atributo. Donde se puede observar que países como Estados Unidos, Japón o Alemania tuvieron la mayor cantidad de exportaciones e importaciones para este año.\n",
    "\n",
    "### How ?\n",
    "\n",
    "Se utilizo un treemap el cual mediante áreas impone la jerarquía de los nodos padre e hijo, y además se filtró los datos por color para distinguir más claramente la información por continente, además utilizando el tamaño de las áreas para representar el valor del atributo cuantitativo.\n",
    "\n",
    "### Marcas \n",
    "\n",
    "Para esta visualización se utiliza la marca de contención del área para la estructura jerárquica de los datos.\n",
    "\n",
    "### Canales\n",
    "\n",
    "Se utiliza el canal del tamaño del área, el cual codifica el tamaño cuantitativo y además el canal de color para discriminar los datos por continente.\n",
    "\n",
    "### Observaciones\n",
    "\n",
    "- Si bien la visualización es bastante potente para determinar la estructura jerárquica de los datos, se queda corta si se necesitara realizar un análisis topológico de los datos.\n",
    "\n",
    "- Debido a las grandes diferencias entre los montos exportados e importados a primera vista se dificulta ver la información para algunos países, aunque esto puede ser solucionado con la interactividad de la visualización.\n",
    "\n"
   ]
  },
  {
   "cell_type": "markdown",
   "metadata": {},
   "source": [
    "# Bibliografía\n",
    "\n",
    "### Datos obtenidos de:  https://github.com/chatox/networks-science-course/tree/master/practicum/data"
   ]
  },
  {
   "cell_type": "code",
   "execution_count": null,
   "metadata": {},
   "outputs": [],
   "source": []
  }
 ],
 "metadata": {
  "kernelspec": {
   "display_name": "Python 3",
   "language": "python",
   "name": "python3"
  },
  "language_info": {
   "codemirror_mode": {
    "name": "ipython",
    "version": 3
   },
   "file_extension": ".py",
   "mimetype": "text/x-python",
   "name": "python",
   "nbconvert_exporter": "python",
   "pygments_lexer": "ipython3",
   "version": "3.8.5"
  }
 },
 "nbformat": 4,
 "nbformat_minor": 4
}
